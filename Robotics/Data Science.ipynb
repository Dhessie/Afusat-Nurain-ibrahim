{
 "cells": [
  {
   "cell_type": "code",
   "execution_count": 1,
   "id": "a27423ee",
   "metadata": {},
   "outputs": [],
   "source": [
    "data= \"welcome to the data science world\" "
   ]
  },
  {
   "cell_type": "code",
   "execution_count": 3,
   "id": "969979b6",
   "metadata": {},
   "outputs": [
    {
     "name": "stdout",
     "output_type": "stream",
     "text": [
      "My name is Afusat Nurain-ibrahim\n"
     ]
    }
   ],
   "source": [
    "b= \"My name is Afusat Nurain-ibrahim\"\n",
    "print(b)"
   ]
  },
  {
   "cell_type": "code",
   "execution_count": 2,
   "id": "352ca702",
   "metadata": {},
   "outputs": [
    {
     "data": {
      "text/plain": [
       "'welcome to the data science world'"
      ]
     },
     "execution_count": 2,
     "metadata": {},
     "output_type": "execute_result"
    }
   ],
   "source": [
    "data"
   ]
  },
  {
   "cell_type": "code",
   "execution_count": 4,
   "id": "81e27b9d",
   "metadata": {},
   "outputs": [],
   "source": [
    "z= \"Happy marriages\""
   ]
  },
  {
   "cell_type": "code",
   "execution_count": 5,
   "id": "03f6f0cf",
   "metadata": {},
   "outputs": [
    {
     "data": {
      "text/plain": [
       "'Happy marriages'"
      ]
     },
     "execution_count": 5,
     "metadata": {},
     "output_type": "execute_result"
    }
   ],
   "source": [
    "z"
   ]
  },
  {
   "cell_type": "code",
   "execution_count": 7,
   "id": "a754a360",
   "metadata": {},
   "outputs": [],
   "source": [
    "c=(16+52)"
   ]
  },
  {
   "cell_type": "code",
   "execution_count": 8,
   "id": "6b142a43",
   "metadata": {},
   "outputs": [
    {
     "name": "stdout",
     "output_type": "stream",
     "text": [
      "68\n"
     ]
    }
   ],
   "source": [
    "print(c)"
   ]
  }
 ],
 "metadata": {
  "kernelspec": {
   "display_name": "Python 3 (ipykernel)",
   "language": "python",
   "name": "python3"
  },
  "language_info": {
   "codemirror_mode": {
    "name": "ipython",
    "version": 3
   },
   "file_extension": ".py",
   "mimetype": "text/x-python",
   "name": "python",
   "nbconvert_exporter": "python",
   "pygments_lexer": "ipython3",
   "version": "3.10.9"
  }
 },
 "nbformat": 4,
 "nbformat_minor": 5
}
